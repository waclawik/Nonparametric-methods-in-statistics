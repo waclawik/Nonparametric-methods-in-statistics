{
 "cells": [
  {
   "cell_type": "code",
   "execution_count": null,
   "id": "8aa10708",
   "metadata": {},
   "outputs": [],
   "source": [
    "##### TEST KOŁMOGOROWA #####\n",
    "\n",
    "### 1) Rozkład t-Studenta ###\n",
    "import numpy as np\n",
    "import matplotlib.pyplot as plt\n",
    "from scipy.stats import kstest, t\n",
    "\n",
    "# Parametry\n",
    "sample_sizes = [20, 50, 100]\n",
    "t_dfs = [2, 5, 10, 30]\n",
    "K = 500\n",
    "alpha = 0.05\n",
    "\n",
    "# Funkcja testu Kołmogorowa\n",
    "def kolmogorov_test(data):\n",
    "    mu = np.mean(data)\n",
    "    sigma = np.std(data, ddof=1)\n",
    "    _, p_value = kstest(data, 'norm', args=(mu, sigma))\n",
    "    return p_value\n",
    "\n",
    "# Symulacja mocy\n",
    "def simulate_power(use_pit=False):\n",
    "    results = {n: [] for n in sample_sizes}\n",
    "    for n in sample_sizes:\n",
    "        for df in t_dfs:\n",
    "            rejections = 0\n",
    "            for _ in range(K):\n",
    "                sample = t.rvs(df, size=n)\n",
    "                if use_pit:\n",
    "                    sample = t.cdf(sample, df)\n",
    "                p = kolmogorov_test(sample)\n",
    "                if p < alpha:\n",
    "                    rejections += 1\n",
    "            power = rejections / K\n",
    "            results[n].append(power)\n",
    "    return results\n",
    "\n",
    "# Testy\n",
    "results_classic = simulate_power(use_pit=False)\n",
    "results_pit = simulate_power(use_pit=True)\n",
    "\n",
    "# Wykres\n",
    "plt.figure(figsize=(10, 6))\n",
    "for n in sample_sizes:\n",
    "    plt.plot(t_dfs, results_classic[n], marker='o', label=f'n={n} (classic)')\n",
    "    plt.plot(t_dfs, results_pit[n], marker='x', linestyle='--', label=f'n={n} (PIT)')\n",
    "\n",
    "plt.title('Moc testu Kołmogorowa dla danych z rozkładu t-Studenta')\n",
    "plt.xlabel('Stopnie swobody (df)')\n",
    "plt.ylabel('Moc testu')\n",
    "plt.legend()\n",
    "plt.grid(True)\n",
    "plt.tight_layout()\n",
    "plt.show()\n"
   ]
  },
  {
   "cell_type": "code",
   "execution_count": null,
   "id": "a982e130",
   "metadata": {},
   "outputs": [],
   "source": []
  }
 ],
 "metadata": {
  "kernelspec": {
   "display_name": "Python 3",
   "language": "python",
   "name": "python3"
  },
  "language_info": {
   "name": "python",
   "version": "3.12.0"
  }
 },
 "nbformat": 4,
 "nbformat_minor": 5
}
